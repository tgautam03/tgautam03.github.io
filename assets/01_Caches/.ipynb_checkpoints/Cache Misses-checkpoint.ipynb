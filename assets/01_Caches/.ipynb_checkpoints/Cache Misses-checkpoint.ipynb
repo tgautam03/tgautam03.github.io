{
 "cells": [
  {
   "cell_type": "markdown",
   "id": "ed99b6cc",
   "metadata": {},
   "source": [
    "# Initialising Matrix"
   ]
  },
  {
   "cell_type": "code",
   "execution_count": 1,
   "id": "b2233346",
   "metadata": {},
   "outputs": [],
   "source": [
    "A = rand(5000, 5000)*10;\n",
    "#size(A)"
   ]
  },
  {
   "cell_type": "markdown",
   "id": "fc4e34a3",
   "metadata": {},
   "source": [
    "# Helper Functions"
   ]
  },
  {
   "cell_type": "code",
   "execution_count": 2,
   "id": "ed4b432b",
   "metadata": {},
   "outputs": [
    {
     "data": {
      "text/plain": [
       "rowAccess (generic function with 1 method)"
      ]
     },
     "execution_count": 2,
     "metadata": {},
     "output_type": "execute_result"
    }
   ],
   "source": [
    "function rowAccess(A::AbstractMatrix)::AbstractMatrix\n",
    "    for i in 1:size(A)[1]\n",
    "        for j in 1:size(A)[2]\n",
    "            A[i,j] = A[i,j]+1\n",
    "        end\n",
    "    end\n",
    "    return A\n",
    "end"
   ]
  },
  {
   "cell_type": "code",
   "execution_count": 3,
   "id": "d79ebba7",
   "metadata": {},
   "outputs": [
    {
     "data": {
      "text/plain": [
       "colAccess (generic function with 1 method)"
      ]
     },
     "execution_count": 3,
     "metadata": {},
     "output_type": "execute_result"
    }
   ],
   "source": [
    "function colAccess(A::AbstractMatrix)::AbstractMatrix\n",
    "    for i in 1:size(A)[1]\n",
    "        for j in 1:size(A)[2]\n",
    "            A[j,i] = A[j,i]+1\n",
    "        end\n",
    "    end\n",
    "    return A\n",
    "end"
   ]
  },
  {
   "cell_type": "markdown",
   "id": "6b0feda3",
   "metadata": {},
   "source": [
    "# Benchmarking"
   ]
  },
  {
   "cell_type": "code",
   "execution_count": 4,
   "id": "d1e02cd6",
   "metadata": {},
   "outputs": [],
   "source": [
    "using BenchmarkTools"
   ]
  },
  {
   "cell_type": "code",
   "execution_count": 5,
   "id": "097b434b",
   "metadata": {},
   "outputs": [
    {
     "name": "stdout",
     "output_type": "stream",
     "text": [
      "  161.789 ms (0 allocations: 0 bytes)\n"
     ]
    }
   ],
   "source": [
    "@btime _ = rowAccess(A);"
   ]
  },
  {
   "cell_type": "code",
   "execution_count": 6,
   "id": "8cdd6325",
   "metadata": {},
   "outputs": [
    {
     "name": "stdout",
     "output_type": "stream",
     "text": [
      "  16.899 ms (0 allocations: 0 bytes)\n"
     ]
    }
   ],
   "source": [
    "@btime _ = colAccess(A);"
   ]
  },
  {
   "cell_type": "code",
   "execution_count": null,
   "id": "f30f9963",
   "metadata": {},
   "outputs": [],
   "source": []
  }
 ],
 "metadata": {
  "kernelspec": {
   "display_name": "Julia 1.6.3",
   "language": "julia",
   "name": "julia-1.6"
  },
  "language_info": {
   "file_extension": ".jl",
   "mimetype": "application/julia",
   "name": "julia",
   "version": "1.6.3"
  }
 },
 "nbformat": 4,
 "nbformat_minor": 5
}
